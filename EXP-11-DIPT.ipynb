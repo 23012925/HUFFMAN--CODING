{
 "cells": [
  {
   "cell_type": "code",
   "execution_count": 1,
   "id": "38441dc3",
   "metadata": {},
   "outputs": [],
   "source": [
    "# NAME: JANARTHANAN K\n",
    "# REG.NO: 212223040072"
   ]
  },
  {
   "cell_type": "code",
   "execution_count": 2,
   "id": "af4a6c21",
   "metadata": {},
   "outputs": [],
   "source": [
    "# expt-11-huffman coding\n",
    "\n",
    "# Step 1: Get the input string\n",
    "input_string = \"JANARTHANAN K\"  # Example input string\n"
   ]
  },
  {
   "cell_type": "code",
   "execution_count": 3,
   "id": "c8fcc1e7",
   "metadata": {},
   "outputs": [],
   "source": [
    "# Step 2: Calculate frequency of each character in the input string\n",
    "frequency = {}\n",
    "for char in input_string:\n",
    "    if char in frequency:\n",
    "        frequency[char] += 1\n",
    "    else:\n",
    "        frequency[char] = 1"
   ]
  },
  {
   "cell_type": "code",
   "execution_count": 4,
   "id": "86708cd1",
   "metadata": {},
   "outputs": [],
   "source": [
    "# Step 3: Create tree nodes\n",
    "nodes = [[char, freq] for char, freq in frequency.items()]"
   ]
  },
  {
   "cell_type": "code",
   "execution_count": 5,
   "id": "c0f187d9",
   "metadata": {},
   "outputs": [],
   "source": [
    "# Step 4: Main function to implement Huffman coding\n",
    "while len(nodes) > 1:\n",
    "    # Sort nodes based on frequency\n",
    "    nodes = sorted(nodes, key=lambda x: x[1])\n",
    "\n",
    "    # Pick two smallest nodes\n",
    "    left = nodes.pop(0)\n",
    "    right = nodes.pop(0)\n",
    "\n",
    "    # Create a new node with combined frequency\n",
    "    new_node = [[left, right], left[1] + right[1]]\n",
    "    nodes.append(new_node)\n",
    "\n",
    "# The final node is the Huffman tree\n",
    "huffman_tree = nodes[0]"
   ]
  },
  {
   "cell_type": "code",
   "execution_count": 6,
   "id": "1570055a",
   "metadata": {},
   "outputs": [],
   "source": [
    "# Step 5: Generate Huffman codes\n",
    "huffman_codes = {}\n",
    "\n",
    "def generate_codes(tree, code=\"\"):\n",
    "    if isinstance(tree[0], str):  # If it's a leaf node\n",
    "        huffman_codes[tree[0]] = code\n",
    "    else:  # If it's an internal node, recurse\n",
    "        generate_codes(tree[0][0], code + \"0\")\n",
    "        generate_codes(tree[0][1], code + \"1\")\n",
    "\n",
    "generate_codes(huffman_tree)"
   ]
  },
  {
   "cell_type": "code",
   "execution_count": 7,
   "id": "85c65246",
   "metadata": {},
   "outputs": [
    {
     "name": "stdout",
     "output_type": "stream",
     "text": [
      "Character | Huffman Code\n",
      "-------------------------\n",
      "         |    000\n",
      "    K    |    001\n",
      "    N    |    01\n",
      "    A    |    10\n",
      "    J    |    1100\n",
      "    R    |    1101\n",
      "    T    |    1110\n",
      "    H    |    1111\n"
     ]
    }
   ],
   "source": [
    "# Step 6: Print the characters and their Huffman codes\n",
    "print(\"Character | Huffman Code\")\n",
    "print(\"-------------------------\")\n",
    "for char, code in huffman_codes.items():\n",
    "    print(f\"    {char}    |    {code}\")"
   ]
  },
  {
   "cell_type": "code",
   "execution_count": null,
   "id": "b38e7c0c",
   "metadata": {},
   "outputs": [],
   "source": []
  }
 ],
 "metadata": {
  "kernelspec": {
   "display_name": "Python 3 (ipykernel)",
   "language": "python",
   "name": "python3"
  },
  "language_info": {
   "codemirror_mode": {
    "name": "ipython",
    "version": 3
   },
   "file_extension": ".py",
   "mimetype": "text/x-python",
   "name": "python",
   "nbconvert_exporter": "python",
   "pygments_lexer": "ipython3",
   "version": "3.11.3"
  }
 },
 "nbformat": 4,
 "nbformat_minor": 5
}
